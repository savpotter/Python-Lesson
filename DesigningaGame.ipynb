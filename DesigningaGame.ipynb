{
 "cells": [
  {
   "cell_type": "code",
   "execution_count": null,
   "id": "abc1d97e-f2fd-4174-b659-8bbdeb68b30e",
   "metadata": {},
   "outputs": [],
   "source": [
    "#For each of these games, switch computers with another individual and play what they designed."
   ]
  },
  {
   "cell_type": "code",
   "execution_count": null,
   "id": "f6a02be1-c86f-4f9e-a034-50a210f00d8f",
   "metadata": {},
   "outputs": [],
   "source": [
    "#Game One: A Number Guessing Game"
   ]
  },
  {
   "cell_type": "code",
   "execution_count": null,
   "id": "93c9a9b9-f878-4f82-b99d-d6ec2f396c98",
   "metadata": {},
   "outputs": [],
   "source": [
    "import random  # This imports the random module so we can use its functions.\n",
    "\n",
    "number_to_guess = random.randint(1, 10)  # Generate a random number between 1 and 10.\n",
    "print(\"I have chosen a number between 1 and 10.\")\n",
    "\n",
    "guess = 0  # Initialize the variable for storing user guesses.\n",
    "while guess != number_to_guess:  # This loop runs until the user guesses correctly.\n",
    "    guess = int(input(\"Take a guess: \"))  # Ask the user for input and convert it to an integer.\n",
    "\n",
    "    if guess < number_to_guess:\n",
    "        print(\"Too low!\")  # This runs if the guess is smaller than the number.\n",
    "    elif guess > number_to_guess:\n",
    "        print(\"Too high!\")  # This runs if the guess is larger than the number.\n",
    "    else:\n",
    "        print(\"You got it!\")  # This runs if the guess is correct."
   ]
  },
  {
   "cell_type": "code",
   "execution_count": null,
   "id": "647338cc-84b3-4d4c-860b-ce27c4f98647",
   "metadata": {},
   "outputs": [],
   "source": [
    "#Create a number guessing game where players guess between 1 - 100, create new printed commands and be creative with your hints!\n"
   ]
  },
  {
   "cell_type": "code",
   "execution_count": null,
   "id": "5bacee8b-583c-4adf-b7e1-67676a70186d",
   "metadata": {},
   "outputs": [],
   "source": [
    "#Game Two: Rock, Paper, Scissors"
   ]
  },
  {
   "cell_type": "code",
   "execution_count": null,
   "id": "074dbaeb-4a27-4ea6-a5bc-2ff78d3da272",
   "metadata": {},
   "outputs": [],
   "source": [
    "choices = [\"rock\", \"paper\", \"scissors\"]  # Define the three choices.\n",
    "\n",
    "import random  # Import the random module if not already imported.\n",
    "computer_choice = random.choice(choices)  # Randomly pick one of the choices.\n",
    "\n",
    "user_choice = input(\"Choose rock, paper, or scissors: \").lower()  # Convert to lowercase for consistency.\n",
    "\n",
    "if user_choice == computer_choice:\n",
    "    print(\"It's a tie!\")  # Both choices are the same.\n",
    "elif (user_choice == \"rock\" and computer_choice == \"scissors\") or \\\n",
    "     (user_choice == \"scissors\" and computer_choice == \"paper\") or \\\n",
    "     (user_choice == \"paper\" and computer_choice == \"rock\"):\n",
    "    print(\"You win!\")  # Check the winning conditions for the user.\n",
    "else:\n",
    "    print(\"You lose!\")  # Any other condition means the computer wins."
   ]
  },
  {
   "cell_type": "code",
   "execution_count": null,
   "id": "79854d25-84a5-4181-aaf8-7d51cc19745e",
   "metadata": {},
   "outputs": [],
   "source": [
    "#Create a game based on rock, paper, scissors but with different items. With your printed script, mention how one item beats another: \n",
    "#(i.e. You chose dragon, computer chose knight, knight slays dragon! Try Again!). Instead of \"computer_choice\" define a differnt opponent.\n"
   ]
  },
  {
   "cell_type": "code",
   "execution_count": null,
   "id": "85be00fb-81b4-459c-a80b-db3b8cb4f297",
   "metadata": {},
   "outputs": [],
   "source": [
    "#Game Three: Quiz Game"
   ]
  },
  {
   "cell_type": "code",
   "execution_count": null,
   "id": "adbe40ac-9acd-4501-a324-094f047b3cc9",
   "metadata": {},
   "outputs": [],
   "source": [
    "questions = [\n",
    "    {\"question\": \"What is 2 + 2?\", \"options\": [\"1\", \"2\", \"4\", \"5\"], \"answer\": \"4\"},\n",
    "    {\"question\": \"What is the capital of France?\", \"options\": [\"Berlin\", \"Madrid\", \"Paris\", \"London\"], \"answer\": \"Paris\"}\n",
    "]\n",
    "\n",
    "for q in questions:  # Loop through each question in the list.\n",
    "    print(\"\\n\" + q[\"question\"])  # Display the question.\n",
    "    print(\"Options:\", \", \".join(q[\"options\"]))  # Join the options with commas for display.\n",
    "\n",
    "    user_answer = input(\"Your answer: \").capitalize()  # Get the user's answer.\n",
    "    if user_answer == q[\"answer\"]:  # Check if the answer is correct.\n",
    "        print(\"Correct!\")\n",
    "    else:\n",
    "        print(\"Wrong! The correct answer was:\", q[\"answer\"])\n",
    "\n",
    "score = 0  # Initialize the score.\n",
    "\n",
    "# Inside the loop, increment the score for correct answers.\n",
    "if user_answer == q[\"answer\"]:\n",
    "    score += 1\n",
    "\n",
    "# After the loop, display the total score.\n",
    "print(\"\\nYou scored\", score, \"out of\", len(questions), \"questions.\")"
   ]
  },
  {
   "cell_type": "code",
   "execution_count": null,
   "id": "a811484b-88e8-4662-93ca-663e17624370",
   "metadata": {},
   "outputs": [],
   "source": [
    "#This is a harder game! Instead of two questions, write five. Base these questions on topics you've learned about in class. \n",
    "#After writing the game, and confirming it works, swap computers with another individual and quiz them on class material!\n"
   ]
  },
  {
   "cell_type": "code",
   "execution_count": null,
   "id": "c0b2c6f3-688e-47c9-9f16-b8f567b2d394",
   "metadata": {},
   "outputs": [],
   "source": [
    "#Congratulations finishing this module- now- partner up and create a new game based on commands you learned in this lesson!"
   ]
  }
 ],
 "metadata": {
  "kernelspec": {
   "display_name": "Python 3 (ipykernel)",
   "language": "python",
   "name": "python3"
  },
  "language_info": {
   "codemirror_mode": {
    "name": "ipython",
    "version": 3
   },
   "file_extension": ".py",
   "mimetype": "text/x-python",
   "name": "python",
   "nbconvert_exporter": "python",
   "pygments_lexer": "ipython3",
   "version": "3.12.4"
  }
 },
 "nbformat": 4,
 "nbformat_minor": 5
}
