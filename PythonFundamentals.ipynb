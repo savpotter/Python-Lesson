{
 "cells": [
  {
   "cell_type": "code",
   "execution_count": null,
   "id": "459c0700-d057-458b-a743-66a0f3111c21",
   "metadata": {},
   "outputs": [],
   "source": [
    "# Python Basics: Enrichment Activity\n",
    "\n",
    "---\n",
    "\n",
    "## Introduction\n",
    "Welcome to your first Python programming tutorial! In this lesson, we'll cover the basics of Python, including:\n",
    "\n",
    "1. Printing and Comments\n",
    "2. Variables and Data Types\n",
    "3. Basic Arithmetic\n",
    "4. User Input\n",
    "5. Conditional Statements\n",
    "6. Loops\n",
    "\n",
    "Each section includes examples and exercises for you to try. By the end of this lesson, you'll be able to write simple Python programs. \n",
    "Let's get started!\n",
    "\n",
    "---\n",
    "\n",
    "# 1. Printing and Comments\n",
    "# Printing is how we display information in Python.\n",
    "print(\"Hello, world!\")\n",
    "\n",
    "# Comments are lines in the code that Python ignores. They're useful for notes.\n",
    "# This is a comment.\n",
    "\n",
    "# Exercise: Write your own print statement below."
   ]
  },
  {
   "cell_type": "code",
   "execution_count": 3,
   "id": "cfaf298c-6882-40b7-8aa7-41c56ea4c7c9",
   "metadata": {},
   "outputs": [],
   "source": [
    "# Your Code Here:\n"
   ]
  },
  {
   "cell_type": "code",
   "execution_count": null,
   "id": "93dc17dd-1147-46cc-9364-928bd384a6d7",
   "metadata": {},
   "outputs": [],
   "source": [
    "# 2. Variables and Data Types\n",
    "# Variables store information for use later.\n",
    "name = \"Savannah\"  # String (text)\n",
    "age = 22           # Integer (whole number)\n",
    "height = 5.6       # Float (decimal number)\n",
    "\n",
    "# We can use variables in print statements.\n",
    "print(\"My name is\", name, \"and I am\", age, \"years old.\")\n",
    "\n",
    "# Exercise: Define your own variables (e.g., favorite color, hobby) and print them.\n"
   ]
  },
  {
   "cell_type": "code",
   "execution_count": 7,
   "id": "deea9888-5555-4b94-a335-1df654b06c5b",
   "metadata": {},
   "outputs": [],
   "source": [
    "# Your Code Here:\n"
   ]
  },
  {
   "cell_type": "code",
   "execution_count": null,
   "id": "1e381006-7ba3-4e00-ad07-d659616c6598",
   "metadata": {},
   "outputs": [],
   "source": [
    "# 3. Basic Arithmetic\n",
    "# Python can do math!\n",
    "a = 10\n",
    "b = 3\n",
    "print(\"Addition:\", a + b)\n",
    "print(\"Subtraction:\", a - b)\n",
    "print(\"Multiplication:\", a * b)\n",
    "print(\"Division:\", a / b)\n",
    "print(\"Power:\", a ** b)\n",
    "\n",
    "# Exercise: Write a program to calculate the area of a rectangle (length x width).\n"
   ]
  },
  {
   "cell_type": "code",
   "execution_count": 11,
   "id": "d4484908-2099-4f96-b1b9-4ead13e3f7bc",
   "metadata": {},
   "outputs": [],
   "source": [
    "# Your Code Here:\n"
   ]
  },
  {
   "cell_type": "code",
   "execution_count": null,
   "id": "73e801f4-343b-4b07-9b57-a77af9a1677d",
   "metadata": {},
   "outputs": [],
   "source": [
    "# 4. User Input\n",
    "# We can ask the user for input.\n",
    "name = input(\"What's your name? \")\n",
    "print(\"Hello,\", name, \"!\")\n",
    "\n",
    "# User input is always a string. Convert it if needed.\n",
    "age = int(input(\"How old are you? \"))\n",
    "print(\"In 5 years, you will be\", age + 5, \"years old.\")\n",
    "\n",
    "# Exercise: Write a program that asks for two numbers and prints their sum.\n"
   ]
  },
  {
   "cell_type": "code",
   "execution_count": null,
   "id": "08c97e5e-0146-44ca-b18c-9820ef3d9881",
   "metadata": {},
   "outputs": [],
   "source": [
    "# 4. User Input\n",
    "# We can ask the user for input.\n",
    "name = input(\"What's your name? \")\n",
    "print(\"Hello,\", name, \"!\")\n",
    "\n",
    "# User input is always a string. Convert it if needed.\n",
    "age = int(input(\"How old are you? \"))\n",
    "print(\"In 5 years, you will be\", age + 5, \"years old.\")\n",
    "\n",
    "# Exercise: Write a program that asks for two numbers and prints their sum.\n"
   ]
  },
  {
   "cell_type": "code",
   "execution_count": 15,
   "id": "dfcc7d41-e266-4dd0-9141-8fc0fa35fc7e",
   "metadata": {},
   "outputs": [],
   "source": [
    "# Your Code Here:\n"
   ]
  },
  {
   "cell_type": "code",
   "execution_count": null,
   "id": "e7f58183-9db4-4d0a-9b5b-f5996225991d",
   "metadata": {},
   "outputs": [],
   "source": [
    "# 5. Conditional Statements\n",
    "# Conditional statements let us make decisions in our code.\n",
    "age = int(input(\"How old are you? \"))\n",
    "if age < 18:\n",
    "    print(\"You're a minor.\")\n",
    "else:\n",
    "    print(\"You're an adult.\")\n",
    "\n",
    "# Exercise: Write a program that checks if a number is positive, negative, or zero.\n"
   ]
  },
  {
   "cell_type": "code",
   "execution_count": 39,
   "id": "86e1c3a0-29ee-4830-8e56-50b1414c6a30",
   "metadata": {},
   "outputs": [],
   "source": [
    "# Your Code Here:\n"
   ]
  },
  {
   "cell_type": "code",
   "execution_count": null,
   "id": "371010c3-696d-481a-b032-7e829a8ede29",
   "metadata": {},
   "outputs": [],
   "source": [
    "# 6. Loops\n",
    "# Loops let us repeat code.\n",
    "# Example: Print numbers 1 to 5 using a for loop.\n",
    "for i in range(1, 6):\n",
    "    print(i)\n",
    "\n",
    "# Example: Print \"Hello\" 3 times using a while loop.\n",
    "count = 0\n",
    "while count < 3:\n",
    "    print(\"Hello\")\n",
    "    count += 1\n",
    "\n",
    "# Exercise: Write a program that prints the numbers from 1 to 10.\n"
   ]
  },
  {
   "cell_type": "code",
   "execution_count": 47,
   "id": "b9fa6095-45df-4cb4-b09d-a76479d86478",
   "metadata": {},
   "outputs": [],
   "source": [
    "# Your Code Here:\n"
   ]
  },
  {
   "cell_type": "code",
   "execution_count": null,
   "id": "97c95c6d-9dd1-4ccd-a9d3-9ed9109175f2",
   "metadata": {},
   "outputs": [],
   "source": [
    "# Congratulations!\n",
    "# You've completed the basics of Python. Keep practicing to improve your skills!"
   ]
  }
 ],
 "metadata": {
  "kernelspec": {
   "display_name": "Python 3 (ipykernel)",
   "language": "python",
   "name": "python3"
  },
  "language_info": {
   "codemirror_mode": {
    "name": "ipython",
    "version": 3
   },
   "file_extension": ".py",
   "mimetype": "text/x-python",
   "name": "python",
   "nbconvert_exporter": "python",
   "pygments_lexer": "ipython3",
   "version": "3.12.4"
  }
 },
 "nbformat": 4,
 "nbformat_minor": 5
}
